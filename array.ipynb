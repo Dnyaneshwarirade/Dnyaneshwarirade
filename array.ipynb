{
  "nbformat": 4,
  "nbformat_minor": 0,
  "metadata": {
    "colab": {
      "provenance": [],
      "authorship_tag": "ABX9TyNC1Ewt7r8NVDi5xSdjkOgC",
      "include_colab_link": true
    },
    "kernelspec": {
      "name": "python3",
      "display_name": "Python 3"
    },
    "language_info": {
      "name": "python"
    }
  },
  "cells": [
    {
      "cell_type": "markdown",
      "metadata": {
        "id": "view-in-github",
        "colab_type": "text"
      },
      "source": [
        "<a href=\"https://colab.research.google.com/github/Dnyaneshwarirade/Dnyaneshwarirade/blob/main/array.ipynb\" target=\"_parent\"><img src=\"https://colab.research.google.com/assets/colab-badge.svg\" alt=\"Open In Colab\"/></a>"
      ]
    },
    {
      "cell_type": "code",
      "source": [
        "#Append\n",
        "#adas an element to array\n",
        "import array as arr\n",
        "x=arr.array('i',[1,2,3,4,5,6,25,5])\n",
        "print(x)\n",
        "x.append(8)\n",
        "print(x)"
      ],
      "metadata": {
        "colab": {
          "base_uri": "https://localhost:8080/"
        },
        "id": "LyLmVJugBioB",
        "outputId": "7dbe2cf8-2ef8-4f74-fd90-ec365f932a4e"
      },
      "execution_count": null,
      "outputs": [
        {
          "output_type": "stream",
          "name": "stdout",
          "text": [
            "array('i', [1, 2, 3, 4, 5, 6, 25, 5])\n",
            "array('i', [1, 2, 3, 4, 5, 6, 25, 5, 8])\n"
          ]
        }
      ]
    },
    {
      "cell_type": "code",
      "execution_count": null,
      "metadata": {
        "colab": {
          "base_uri": "https://localhost:8080/"
        },
        "id": "aFZ7C7DiBfGm",
        "outputId": "7dbff87a-f723-4c95-eb3d-90a0299f6082"
      },
      "outputs": [
        {
          "output_type": "stream",
          "name": "stdout",
          "text": [
            "array('i', [1, 2, 3, 4, 5, 6, 25, 5])\n",
            "array('i', [1, 2, 3, 4, 5, 6, 25, 5, 12, 14, 11])\n"
          ]
        }
      ],
      "source": [
        "#extend\n",
        "import array as arr\n",
        "arr=arr.array('i',[1,2,3,4,5,6,25,5])\n",
        "print(arr)\n",
        "arr.extend([12,14,11])\n",
        "print(arr)"
      ]
    },
    {
      "cell_type": "code",
      "source": [
        "#insert(insert the list)\n",
        "import array as arr\n",
        "arr=arr.array('i',[1,2,3,4,5,6,25,5])\n",
        "print(arr)\n",
        "arr.insert(2,12)\n",
        "print(arr)"
      ],
      "metadata": {
        "colab": {
          "base_uri": "https://localhost:8080/"
        },
        "id": "h1g50ZzPCRRC",
        "outputId": "7f86a706-3253-443e-8186-731efa78480a"
      },
      "execution_count": null,
      "outputs": [
        {
          "output_type": "stream",
          "name": "stdout",
          "text": [
            "array('i', [1, 2, 3, 4, 5, 6, 25, 5])\n",
            "array('i', [1, 2, 12, 3, 4, 5, 6, 25, 5])\n"
          ]
        }
      ]
    },
    {
      "cell_type": "code",
      "source": [
        "#pop(pop the element)\n",
        "import array as arr\n",
        "x=arr.array('i',[1,2,3,4,5,6,25,5])\n",
        "print(x)\n",
        "x.pop(2)\n",
        "print(x)\n",
        "x.pop(5)\n",
        "print(x)"
      ],
      "metadata": {
        "colab": {
          "base_uri": "https://localhost:8080/"
        },
        "id": "z4p2U12EDXTU",
        "outputId": "ad3391aa-7c58-48ef-da42-484def106b63"
      },
      "execution_count": null,
      "outputs": [
        {
          "output_type": "stream",
          "name": "stdout",
          "text": [
            "array('i', [1, 2, 3, 4, 5, 6, 25, 5])\n",
            "array('i', [1, 2, 4, 5, 6, 25, 5])\n",
            "array('i', [1, 2, 4, 5, 6, 5])\n"
          ]
        }
      ]
    },
    {
      "cell_type": "code",
      "source": [
        "#remove(remove occurance)\n",
        "import array as arr\n",
        "x=arr.array('i',[1,2,3,4,5,6,25,5])\n",
        "print(x)\n",
        "x.remove(5)"
      ],
      "metadata": {
        "colab": {
          "base_uri": "https://localhost:8080/"
        },
        "id": "IgeZu9vUD1SO",
        "outputId": "d76bcc02-884f-4e1d-e0f0-f8d3ca71ecf6"
      },
      "execution_count": null,
      "outputs": [
        {
          "output_type": "stream",
          "name": "stdout",
          "text": [
            "array('i', [1, 2, 3, 4, 5, 6, 25, 5])\n"
          ]
        }
      ]
    },
    {
      "cell_type": "code",
      "source": [
        "x=arr.array('i',[1,2,3,4,5,6,25,5])\n",
        "def remove_second_occurance(array,value):\n",
        "  count=0\n",
        "  for elements in range(len(x)):\n",
        "    if array[elements]==value:\n",
        "      count += 1\n",
        "      if count ==2:\n",
        "        array.pop(elements)\n",
        "        break\n",
        "\n",
        "remove_second_occurance(x,5)\n",
        "print(\"array after emoving second occurence of 5:\",x)"
      ],
      "metadata": {
        "colab": {
          "base_uri": "https://localhost:8080/"
        },
        "id": "YVKUOx6yEazx",
        "outputId": "360406aa-aee4-4421-f538-05954496be37"
      },
      "execution_count": null,
      "outputs": [
        {
          "output_type": "stream",
          "name": "stdout",
          "text": [
            "array after emoving second occurence of 5: array('i', [1, 2, 3, 4, 5, 6, 25])\n"
          ]
        }
      ]
    },
    {
      "cell_type": "code",
      "source": [
        "#count ()\n",
        "\n",
        "import array as arr\n",
        "x=arr.array('i',[1,2,3,4,5,6,25,5])\n",
        "print(\"original array:\",x)\n",
        "print(\"count of 5:\",x.count(5))"
      ],
      "metadata": {
        "colab": {
          "base_uri": "https://localhost:8080/"
        },
        "id": "_ckUD5NrGecs",
        "outputId": "e65557a8-1ee7-4110-f1ac-041ec90634b7"
      },
      "execution_count": null,
      "outputs": [
        {
          "output_type": "stream",
          "name": "stdout",
          "text": [
            "original array: array('i', [1, 2, 3, 4, 5, 6, 25, 5])\n",
            "count of 5: 2\n"
          ]
        }
      ]
    },
    {
      "cell_type": "code",
      "source": [
        "#reverse\n",
        "x=arr.array('i',[1,2,3,4,5,6,25,5])\n",
        "print(\"original array:\",x)\n",
        "x.reverse()\n",
        "print(\"reverse array:\",x)\n"
      ],
      "metadata": {
        "colab": {
          "base_uri": "https://localhost:8080/"
        },
        "id": "4TbS5lcJHGT-",
        "outputId": "d0820a01-a253-416e-c73a-79215d3c3b81"
      },
      "execution_count": null,
      "outputs": [
        {
          "output_type": "stream",
          "name": "stdout",
          "text": [
            "original array: array('i', [1, 2, 3, 4, 5, 6, 25, 5])\n",
            "reverse array: array('i', [5, 25, 6, 5, 4, 3, 2, 1])\n"
          ]
        }
      ]
    },
    {
      "cell_type": "code",
      "source": [
        "#buffer\n",
        "import array as arr\n",
        "print(\"original array:\",x)\n",
        "print(x.buffer_info())"
      ],
      "metadata": {
        "colab": {
          "base_uri": "https://localhost:8080/"
        },
        "id": "NJlKAcK5Hkz3",
        "outputId": "1d022067-05df-4876-fc19-6d241eafce8b"
      },
      "execution_count": null,
      "outputs": [
        {
          "output_type": "stream",
          "name": "stdout",
          "text": [
            "original array: array('i', [1, 2, 3, 4, 5, 6, 25])\n",
            "(134593553051600, 7)\n"
          ]
        }
      ]
    },
    {
      "cell_type": "code",
      "source": [
        "#tolist\n",
        "import array as arr\n",
        "x=arr.array('i',[1,2,3,4,5,6,25,5])\n",
        "print(\"original array:\",x)\n",
        "print(x.tolist())"
      ],
      "metadata": {
        "colab": {
          "base_uri": "https://localhost:8080/"
        },
        "id": "3BZn3drqH2y9",
        "outputId": "77d28eb1-623c-46ca-eb15-d631c77d95fa"
      },
      "execution_count": null,
      "outputs": [
        {
          "output_type": "stream",
          "name": "stdout",
          "text": [
            "original array: array('i', [1, 2, 3, 4, 5, 6, 25, 5])\n",
            "[1, 2, 3, 4, 5, 6, 25, 5]\n"
          ]
        }
      ]
    },
    {
      "cell_type": "code",
      "source": [],
      "metadata": {
        "id": "cH6X-50RIl8j"
      },
      "execution_count": null,
      "outputs": []
    }
  ]
}